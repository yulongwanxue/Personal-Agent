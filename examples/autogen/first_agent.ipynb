{
 "cells": [
  {
   "cell_type": "code",
   "execution_count": null,
   "metadata": {},
   "outputs": [
    {
     "data": {
      "text/html": [
       "<pre style=\"white-space:pre;overflow-x:auto;line-height:normal;font-family:Menlo,'DejaVu Sans Mono',consolas,'Courier New',monospace\"><span style=\"color: #000080; text-decoration-color: #000080\">╭───────────────────────────────────────────────────── </span><span style=\"color: #000080; text-decoration-color: #000080; font-weight: bold\">user</span><span style=\"color: #000080; text-decoration-color: #000080\"> ──────────────────────────────────────────────────────╮</span>\n",
       "<span style=\"color: #000080; text-decoration-color: #000080\">│</span> Count from 1 to 10, respond one at a time.                                                                      <span style=\"color: #000080; text-decoration-color: #000080\">│</span>\n",
       "<span style=\"color: #000080; text-decoration-color: #000080\">╰─────────────────────────────────────────────────────────────────────────────────────────────────────────────────╯</span>\n",
       "</pre>\n"
      ],
      "text/plain": [
       "\u001b[34m╭─\u001b[0m\u001b[34m────────────────────────────────────────────────────\u001b[0m\u001b[34m \u001b[0m\u001b[1;34muser\u001b[0m\u001b[34m \u001b[0m\u001b[34m─────────────────────────────────────────────────────\u001b[0m\u001b[34m─╮\u001b[0m\n",
       "\u001b[34m│\u001b[0m Count from 1 to 10, respond one at a time.                                                                      \u001b[34m│\u001b[0m\n",
       "\u001b[34m╰─────────────────────────────────────────────────────────────────────────────────────────────────────────────────╯\u001b[0m\n"
      ]
     },
     "metadata": {},
     "output_type": "display_data"
    },
    {
     "data": {
      "text/html": [
       "<pre style=\"white-space:pre;overflow-x:auto;line-height:normal;font-family:Menlo,'DejaVu Sans Mono',consolas,'Courier New',monospace\">――――――――――――――――――――――――――――――――――――――――――――――――――――――――――――――――――――――――――――――――\n",
       "</pre>\n"
      ],
      "text/plain": [
       "――――――――――――――――――――――――――――――――――――――――――――――――――――――――――――――――――――――――――――――――\n"
      ]
     },
     "metadata": {},
     "output_type": "display_data"
    },
    {
     "data": {
      "text/html": [
       "<pre style=\"white-space:pre;overflow-x:auto;line-height:normal;font-family:Menlo,'DejaVu Sans Mono',consolas,'Courier New',monospace\"><span style=\"color: #000080; text-decoration-color: #000080\">╭────────────────────────────────────────────────── </span><span style=\"color: #000080; text-decoration-color: #000080; font-weight: bold\">Assistant1</span><span style=\"color: #000080; text-decoration-color: #000080\"> ───────────────────────────────────────────────────╮</span>\n",
       "<span style=\"color: #000080; text-decoration-color: #000080\">│</span> COUNTING FROM 1 TO 10:                                                                                          <span style=\"color: #000080; text-decoration-color: #000080\">│</span>\n",
       "<span style=\"color: #000080; text-decoration-color: #000080\">│</span> 1 [ONE]                                                                                                         <span style=\"color: #000080; text-decoration-color: #000080\">│</span>\n",
       "<span style=\"color: #000080; text-decoration-color: #000080\">│</span> 2 [TWO]                                                                                                         <span style=\"color: #000080; text-decoration-color: #000080\">│</span>\n",
       "<span style=\"color: #000080; text-decoration-color: #000080\">│</span> 3 [THREE]                                                                                                       <span style=\"color: #000080; text-decoration-color: #000080\">│</span>\n",
       "<span style=\"color: #000080; text-decoration-color: #000080\">│</span> 4 [FOUR]                                                                                                        <span style=\"color: #000080; text-decoration-color: #000080\">│</span>\n",
       "<span style=\"color: #000080; text-decoration-color: #000080\">│</span> 5 [FIVE]                                                                                                        <span style=\"color: #000080; text-decoration-color: #000080\">│</span>\n",
       "<span style=\"color: #000080; text-decoration-color: #000080\">│</span> 6 [SIX]                                                                                                         <span style=\"color: #000080; text-decoration-color: #000080\">│</span>\n",
       "<span style=\"color: #000080; text-decoration-color: #000080\">│</span> 7 [SEVEN]                                                                                                       <span style=\"color: #000080; text-decoration-color: #000080\">│</span>\n",
       "<span style=\"color: #000080; text-decoration-color: #000080\">│</span> 8 [EIGHT]                                                                                                       <span style=\"color: #000080; text-decoration-color: #000080\">│</span>\n",
       "<span style=\"color: #000080; text-decoration-color: #000080\">│</span> 9 [NINE]                                                                                                        <span style=\"color: #000080; text-decoration-color: #000080\">│</span>\n",
       "<span style=\"color: #000080; text-decoration-color: #000080\">│</span> 10 [TEN]                                                                                                        <span style=\"color: #000080; text-decoration-color: #000080\">│</span>\n",
       "<span style=\"color: #000080; text-decoration-color: #000080\">╰─────────────────────────────────────────────────────────────────────────────────────────────────────────────────╯</span>\n",
       "</pre>\n"
      ],
      "text/plain": [
       "\u001b[34m╭─\u001b[0m\u001b[34m─────────────────────────────────────────────────\u001b[0m\u001b[34m \u001b[0m\u001b[1;34mAssistant1\u001b[0m\u001b[34m \u001b[0m\u001b[34m──────────────────────────────────────────────────\u001b[0m\u001b[34m─╮\u001b[0m\n",
       "\u001b[34m│\u001b[0m COUNTING FROM 1 TO 10:                                                                                          \u001b[34m│\u001b[0m\n",
       "\u001b[34m│\u001b[0m 1 [ONE]                                                                                                         \u001b[34m│\u001b[0m\n",
       "\u001b[34m│\u001b[0m 2 [TWO]                                                                                                         \u001b[34m│\u001b[0m\n",
       "\u001b[34m│\u001b[0m 3 [THREE]                                                                                                       \u001b[34m│\u001b[0m\n",
       "\u001b[34m│\u001b[0m 4 [FOUR]                                                                                                        \u001b[34m│\u001b[0m\n",
       "\u001b[34m│\u001b[0m 5 [FIVE]                                                                                                        \u001b[34m│\u001b[0m\n",
       "\u001b[34m│\u001b[0m 6 [SIX]                                                                                                         \u001b[34m│\u001b[0m\n",
       "\u001b[34m│\u001b[0m 7 [SEVEN]                                                                                                       \u001b[34m│\u001b[0m\n",
       "\u001b[34m│\u001b[0m 8 [EIGHT]                                                                                                       \u001b[34m│\u001b[0m\n",
       "\u001b[34m│\u001b[0m 9 [NINE]                                                                                                        \u001b[34m│\u001b[0m\n",
       "\u001b[34m│\u001b[0m 10 [TEN]                                                                                                        \u001b[34m│\u001b[0m\n",
       "\u001b[34m╰─────────────────────────────────────────────────────────────────────────────────────────────────────────────────╯\u001b[0m\n"
      ]
     },
     "metadata": {},
     "output_type": "display_data"
    },
    {
     "data": {
      "text/html": [
       "<pre style=\"white-space:pre;overflow-x:auto;line-height:normal;font-family:Menlo,'DejaVu Sans Mono',consolas,'Courier New',monospace\"><span style=\"color: #7f7f7f; text-decoration-color: #7f7f7f\">Usage - Prompt tokens: </span><span style=\"color: #7fbfbf; text-decoration-color: #7fbfbf; font-weight: bold\">52</span><span style=\"color: #7f7f7f; text-decoration-color: #7f7f7f\">, Completion tokens: </span><span style=\"color: #7fbfbf; text-decoration-color: #7fbfbf; font-weight: bold\">61</span>\n",
       "</pre>\n"
      ],
      "text/plain": [
       "\u001b[2mUsage - Prompt tokens: \u001b[0m\u001b[1;2;36m52\u001b[0m\u001b[2m, Completion tokens: \u001b[0m\u001b[1;2;36m61\u001b[0m\n"
      ]
     },
     "metadata": {},
     "output_type": "display_data"
    },
    {
     "data": {
      "text/html": [
       "<pre style=\"white-space:pre;overflow-x:auto;line-height:normal;font-family:Menlo,'DejaVu Sans Mono',consolas,'Courier New',monospace\">――――――――――――――――――――――――――――――――――――――――――――――――――――――――――――――――――――――――――――――――\n",
       "</pre>\n"
      ],
      "text/plain": [
       "――――――――――――――――――――――――――――――――――――――――――――――――――――――――――――――――――――――――――――――――\n"
      ]
     },
     "metadata": {},
     "output_type": "display_data"
    },
    {
     "data": {
      "text/html": [
       "<pre style=\"white-space:pre;overflow-x:auto;line-height:normal;font-family:Menlo,'DejaVu Sans Mono',consolas,'Courier New',monospace\"><span style=\"color: #000080; text-decoration-color: #000080\">╭────────────────────────────────────────────────── </span><span style=\"color: #000080; text-decoration-color: #000080; font-weight: bold\">Assistant2</span><span style=\"color: #000080; text-decoration-color: #000080\"> ───────────────────────────────────────────────────╮</span>\n",
       "<span style=\"color: #000080; text-decoration-color: #000080\">│</span> COUNTING FROM 1 TO 10:                                                                                          <span style=\"color: #000080; text-decoration-color: #000080\">│</span>\n",
       "<span style=\"color: #000080; text-decoration-color: #000080\">│</span> 1 [ONE]                                                                                                         <span style=\"color: #000080; text-decoration-color: #000080\">│</span>\n",
       "<span style=\"color: #000080; text-decoration-color: #000080\">│</span> 2 [TWO]                                                                                                         <span style=\"color: #000080; text-decoration-color: #000080\">│</span>\n",
       "<span style=\"color: #000080; text-decoration-color: #000080\">│</span> 3 [THREE]                                                                                                       <span style=\"color: #000080; text-decoration-color: #000080\">│</span>\n",
       "<span style=\"color: #000080; text-decoration-color: #000080\">│</span> 4 [FOUR]                                                                                                        <span style=\"color: #000080; text-decoration-color: #000080\">│</span>\n",
       "<span style=\"color: #000080; text-decoration-color: #000080\">│</span> 5 [FIVE]                                                                                                        <span style=\"color: #000080; text-decoration-color: #000080\">│</span>\n",
       "<span style=\"color: #000080; text-decoration-color: #000080\">│</span> 6 [SIX]                                                                                                         <span style=\"color: #000080; text-decoration-color: #000080\">│</span>\n",
       "<span style=\"color: #000080; text-decoration-color: #000080\">│</span> 7 [SEVEN]                                                                                                       <span style=\"color: #000080; text-decoration-color: #000080\">│</span>\n",
       "<span style=\"color: #000080; text-decoration-color: #000080\">│</span> 8 [EIGHT]                                                                                                       <span style=\"color: #000080; text-decoration-color: #000080\">│</span>\n",
       "<span style=\"color: #000080; text-decoration-color: #000080\">│</span> 9 [NINE]                                                                                                        <span style=\"color: #000080; text-decoration-color: #000080\">│</span>\n",
       "<span style=\"color: #000080; text-decoration-color: #000080\">│</span> 10 [TEN]                                                                                                        <span style=\"color: #000080; text-decoration-color: #000080\">│</span>\n",
       "<span style=\"color: #000080; text-decoration-color: #000080\">╰─────────────────────────────────────────────────────────────────────────────────────────────────────────────────╯</span>\n",
       "</pre>\n"
      ],
      "text/plain": [
       "\u001b[34m╭─\u001b[0m\u001b[34m─────────────────────────────────────────────────\u001b[0m\u001b[34m \u001b[0m\u001b[1;34mAssistant2\u001b[0m\u001b[34m \u001b[0m\u001b[34m──────────────────────────────────────────────────\u001b[0m\u001b[34m─╮\u001b[0m\n",
       "\u001b[34m│\u001b[0m COUNTING FROM 1 TO 10:                                                                                          \u001b[34m│\u001b[0m\n",
       "\u001b[34m│\u001b[0m 1 [ONE]                                                                                                         \u001b[34m│\u001b[0m\n",
       "\u001b[34m│\u001b[0m 2 [TWO]                                                                                                         \u001b[34m│\u001b[0m\n",
       "\u001b[34m│\u001b[0m 3 [THREE]                                                                                                       \u001b[34m│\u001b[0m\n",
       "\u001b[34m│\u001b[0m 4 [FOUR]                                                                                                        \u001b[34m│\u001b[0m\n",
       "\u001b[34m│\u001b[0m 5 [FIVE]                                                                                                        \u001b[34m│\u001b[0m\n",
       "\u001b[34m│\u001b[0m 6 [SIX]                                                                                                         \u001b[34m│\u001b[0m\n",
       "\u001b[34m│\u001b[0m 7 [SEVEN]                                                                                                       \u001b[34m│\u001b[0m\n",
       "\u001b[34m│\u001b[0m 8 [EIGHT]                                                                                                       \u001b[34m│\u001b[0m\n",
       "\u001b[34m│\u001b[0m 9 [NINE]                                                                                                        \u001b[34m│\u001b[0m\n",
       "\u001b[34m│\u001b[0m 10 [TEN]                                                                                                        \u001b[34m│\u001b[0m\n",
       "\u001b[34m╰─────────────────────────────────────────────────────────────────────────────────────────────────────────────────╯\u001b[0m\n"
      ]
     },
     "metadata": {},
     "output_type": "display_data"
    },
    {
     "data": {
      "text/html": [
       "<pre style=\"white-space:pre;overflow-x:auto;line-height:normal;font-family:Menlo,'DejaVu Sans Mono',consolas,'Courier New',monospace\"><span style=\"color: #7f7f7f; text-decoration-color: #7f7f7f\">Usage - Prompt tokens: </span><span style=\"color: #7fbfbf; text-decoration-color: #7fbfbf; font-weight: bold\">112</span><span style=\"color: #7f7f7f; text-decoration-color: #7f7f7f\">, Completion tokens: </span><span style=\"color: #7fbfbf; text-decoration-color: #7fbfbf; font-weight: bold\">61</span>\n",
       "</pre>\n"
      ],
      "text/plain": [
       "\u001b[2mUsage - Prompt tokens: \u001b[0m\u001b[1;2;36m112\u001b[0m\u001b[2m, Completion tokens: \u001b[0m\u001b[1;2;36m61\u001b[0m\n"
      ]
     },
     "metadata": {},
     "output_type": "display_data"
    },
    {
     "data": {
      "text/html": [
       "<pre style=\"white-space:pre;overflow-x:auto;line-height:normal;font-family:Menlo,'DejaVu Sans Mono',consolas,'Courier New',monospace\">――――――――――――――――――――――――――――――――――――――――――――――――――――――――――――――――――――――――――――――――\n",
       "</pre>\n"
      ],
      "text/plain": [
       "――――――――――――――――――――――――――――――――――――――――――――――――――――――――――――――――――――――――――――――――\n"
      ]
     },
     "metadata": {},
     "output_type": "display_data"
    },
    {
     "data": {
      "text/html": [
       "<pre style=\"white-space:pre;overflow-x:auto;line-height:normal;font-family:Menlo,'DejaVu Sans Mono',consolas,'Courier New',monospace\"><span style=\"color: #000080; text-decoration-color: #000080\">╭────────────────────────────────────────────────── </span><span style=\"color: #000080; text-decoration-color: #000080; font-weight: bold\">Assistant1</span><span style=\"color: #000080; text-decoration-color: #000080\"> ───────────────────────────────────────────────────╮</span>\n",
       "<span style=\"color: #000080; text-decoration-color: #000080\">│</span> COUNTING FROM 1 TO 10:                                                                                          <span style=\"color: #000080; text-decoration-color: #000080\">│</span>\n",
       "<span style=\"color: #000080; text-decoration-color: #000080\">│</span> 1 [ONE]                                                                                                         <span style=\"color: #000080; text-decoration-color: #000080\">│</span>\n",
       "<span style=\"color: #000080; text-decoration-color: #000080\">│</span> 2 [TWO]                                                                                                         <span style=\"color: #000080; text-decoration-color: #000080\">│</span>\n",
       "<span style=\"color: #000080; text-decoration-color: #000080\">│</span> 3 [THREE]                                                                                                       <span style=\"color: #000080; text-decoration-color: #000080\">│</span>\n",
       "<span style=\"color: #000080; text-decoration-color: #000080\">│</span> 4 [FOUR]                                                                                                        <span style=\"color: #000080; text-decoration-color: #000080\">│</span>\n",
       "<span style=\"color: #000080; text-decoration-color: #000080\">│</span> 5 [FIVE]                                                                                                        <span style=\"color: #000080; text-decoration-color: #000080\">│</span>\n",
       "<span style=\"color: #000080; text-decoration-color: #000080\">│</span> 6 [SIX]                                                                                                         <span style=\"color: #000080; text-decoration-color: #000080\">│</span>\n",
       "<span style=\"color: #000080; text-decoration-color: #000080\">│</span> 7 [SEVEN]                                                                                                       <span style=\"color: #000080; text-decoration-color: #000080\">│</span>\n",
       "<span style=\"color: #000080; text-decoration-color: #000080\">│</span> 8 [EIGHT]                                                                                                       <span style=\"color: #000080; text-decoration-color: #000080\">│</span>\n",
       "<span style=\"color: #000080; text-decoration-color: #000080\">│</span> 9 [NINE]                                                                                                        <span style=\"color: #000080; text-decoration-color: #000080\">│</span>\n",
       "<span style=\"color: #000080; text-decoration-color: #000080\">│</span> 10 [TEN]                                                                                                        <span style=\"color: #000080; text-decoration-color: #000080\">│</span>\n",
       "<span style=\"color: #000080; text-decoration-color: #000080\">╰─────────────────────────────────────────────────────────────────────────────────────────────────────────────────╯</span>\n",
       "</pre>\n"
      ],
      "text/plain": [
       "\u001b[34m╭─\u001b[0m\u001b[34m─────────────────────────────────────────────────\u001b[0m\u001b[34m \u001b[0m\u001b[1;34mAssistant1\u001b[0m\u001b[34m \u001b[0m\u001b[34m──────────────────────────────────────────────────\u001b[0m\u001b[34m─╮\u001b[0m\n",
       "\u001b[34m│\u001b[0m COUNTING FROM 1 TO 10:                                                                                          \u001b[34m│\u001b[0m\n",
       "\u001b[34m│\u001b[0m 1 [ONE]                                                                                                         \u001b[34m│\u001b[0m\n",
       "\u001b[34m│\u001b[0m 2 [TWO]                                                                                                         \u001b[34m│\u001b[0m\n",
       "\u001b[34m│\u001b[0m 3 [THREE]                                                                                                       \u001b[34m│\u001b[0m\n",
       "\u001b[34m│\u001b[0m 4 [FOUR]                                                                                                        \u001b[34m│\u001b[0m\n",
       "\u001b[34m│\u001b[0m 5 [FIVE]                                                                                                        \u001b[34m│\u001b[0m\n",
       "\u001b[34m│\u001b[0m 6 [SIX]                                                                                                         \u001b[34m│\u001b[0m\n",
       "\u001b[34m│\u001b[0m 7 [SEVEN]                                                                                                       \u001b[34m│\u001b[0m\n",
       "\u001b[34m│\u001b[0m 8 [EIGHT]                                                                                                       \u001b[34m│\u001b[0m\n",
       "\u001b[34m│\u001b[0m 9 [NINE]                                                                                                        \u001b[34m│\u001b[0m\n",
       "\u001b[34m│\u001b[0m 10 [TEN]                                                                                                        \u001b[34m│\u001b[0m\n",
       "\u001b[34m╰─────────────────────────────────────────────────────────────────────────────────────────────────────────────────╯\u001b[0m\n"
      ]
     },
     "metadata": {},
     "output_type": "display_data"
    },
    {
     "data": {
      "text/html": [
       "<pre style=\"white-space:pre;overflow-x:auto;line-height:normal;font-family:Menlo,'DejaVu Sans Mono',consolas,'Courier New',monospace\"><span style=\"color: #7f7f7f; text-decoration-color: #7f7f7f\">Usage - Prompt tokens: </span><span style=\"color: #7fbfbf; text-decoration-color: #7fbfbf; font-weight: bold\">182</span><span style=\"color: #7f7f7f; text-decoration-color: #7f7f7f\">, Completion tokens: </span><span style=\"color: #7fbfbf; text-decoration-color: #7fbfbf; font-weight: bold\">61</span>\n",
       "</pre>\n"
      ],
      "text/plain": [
       "\u001b[2mUsage - Prompt tokens: \u001b[0m\u001b[1;2;36m182\u001b[0m\u001b[2m, Completion tokens: \u001b[0m\u001b[1;2;36m61\u001b[0m\n"
      ]
     },
     "metadata": {},
     "output_type": "display_data"
    },
    {
     "data": {
      "text/html": [
       "<pre style=\"white-space:pre;overflow-x:auto;line-height:normal;font-family:Menlo,'DejaVu Sans Mono',consolas,'Courier New',monospace\">――――――――――――――――――――――――――――――――――――――――――――――――――――――――――――――――――――――――――――――――\n",
       "</pre>\n"
      ],
      "text/plain": [
       "――――――――――――――――――――――――――――――――――――――――――――――――――――――――――――――――――――――――――――――――\n"
      ]
     },
     "metadata": {},
     "output_type": "display_data"
    },
    {
     "data": {
      "text/html": [
       "<pre style=\"white-space:pre;overflow-x:auto;line-height:normal;font-family:Menlo,'DejaVu Sans Mono',consolas,'Courier New',monospace\"><span style=\"color: #000080; text-decoration-color: #000080\">╭────────────────────────────────────────────────── </span><span style=\"color: #000080; text-decoration-color: #000080; font-weight: bold\">Assistant2</span><span style=\"color: #000080; text-decoration-color: #000080\"> ───────────────────────────────────────────────────╮</span>\n",
       "<span style=\"color: #000080; text-decoration-color: #000080\">│</span> COUNTING FROM 1 TO 10:                                                                                          <span style=\"color: #000080; text-decoration-color: #000080\">│</span>\n",
       "<span style=\"color: #000080; text-decoration-color: #000080\">│</span> 1 [ONE]                                                                                                         <span style=\"color: #000080; text-decoration-color: #000080\">│</span>\n",
       "<span style=\"color: #000080; text-decoration-color: #000080\">│</span> 2 [TWO]                                                                                                         <span style=\"color: #000080; text-decoration-color: #000080\">│</span>\n",
       "<span style=\"color: #000080; text-decoration-color: #000080\">│</span> 3 [THREE]                                                                                                       <span style=\"color: #000080; text-decoration-color: #000080\">│</span>\n",
       "<span style=\"color: #000080; text-decoration-color: #000080\">│</span> 4 [FOUR]                                                                                                        <span style=\"color: #000080; text-decoration-color: #000080\">│</span>\n",
       "<span style=\"color: #000080; text-decoration-color: #000080\">│</span> 5 [FIVE]                                                                                                        <span style=\"color: #000080; text-decoration-color: #000080\">│</span>\n",
       "<span style=\"color: #000080; text-decoration-color: #000080\">│</span> 6 [SIX]                                                                                                         <span style=\"color: #000080; text-decoration-color: #000080\">│</span>\n",
       "<span style=\"color: #000080; text-decoration-color: #000080\">│</span> 7 [SEVEN]                                                                                                       <span style=\"color: #000080; text-decoration-color: #000080\">│</span>\n",
       "<span style=\"color: #000080; text-decoration-color: #000080\">│</span> 8 [EIGHT]                                                                                                       <span style=\"color: #000080; text-decoration-color: #000080\">│</span>\n",
       "<span style=\"color: #000080; text-decoration-color: #000080\">│</span> 9 [NINE]                                                                                                        <span style=\"color: #000080; text-decoration-color: #000080\">│</span>\n",
       "<span style=\"color: #000080; text-decoration-color: #000080\">│</span> 10 [TEN]                                                                                                        <span style=\"color: #000080; text-decoration-color: #000080\">│</span>\n",
       "<span style=\"color: #000080; text-decoration-color: #000080\">╰─────────────────────────────────────────────────────────────────────────────────────────────────────────────────╯</span>\n",
       "</pre>\n"
      ],
      "text/plain": [
       "\u001b[34m╭─\u001b[0m\u001b[34m─────────────────────────────────────────────────\u001b[0m\u001b[34m \u001b[0m\u001b[1;34mAssistant2\u001b[0m\u001b[34m \u001b[0m\u001b[34m──────────────────────────────────────────────────\u001b[0m\u001b[34m─╮\u001b[0m\n",
       "\u001b[34m│\u001b[0m COUNTING FROM 1 TO 10:                                                                                          \u001b[34m│\u001b[0m\n",
       "\u001b[34m│\u001b[0m 1 [ONE]                                                                                                         \u001b[34m│\u001b[0m\n",
       "\u001b[34m│\u001b[0m 2 [TWO]                                                                                                         \u001b[34m│\u001b[0m\n",
       "\u001b[34m│\u001b[0m 3 [THREE]                                                                                                       \u001b[34m│\u001b[0m\n",
       "\u001b[34m│\u001b[0m 4 [FOUR]                                                                                                        \u001b[34m│\u001b[0m\n",
       "\u001b[34m│\u001b[0m 5 [FIVE]                                                                                                        \u001b[34m│\u001b[0m\n",
       "\u001b[34m│\u001b[0m 6 [SIX]                                                                                                         \u001b[34m│\u001b[0m\n",
       "\u001b[34m│\u001b[0m 7 [SEVEN]                                                                                                       \u001b[34m│\u001b[0m\n",
       "\u001b[34m│\u001b[0m 8 [EIGHT]                                                                                                       \u001b[34m│\u001b[0m\n",
       "\u001b[34m│\u001b[0m 9 [NINE]                                                                                                        \u001b[34m│\u001b[0m\n",
       "\u001b[34m│\u001b[0m 10 [TEN]                                                                                                        \u001b[34m│\u001b[0m\n",
       "\u001b[34m╰─────────────────────────────────────────────────────────────────────────────────────────────────────────────────╯\u001b[0m\n"
      ]
     },
     "metadata": {},
     "output_type": "display_data"
    },
    {
     "data": {
      "text/html": [
       "<pre style=\"white-space:pre;overflow-x:auto;line-height:normal;font-family:Menlo,'DejaVu Sans Mono',consolas,'Courier New',monospace\"><span style=\"color: #7f7f7f; text-decoration-color: #7f7f7f\">Usage - Prompt tokens: </span><span style=\"color: #7fbfbf; text-decoration-color: #7fbfbf; font-weight: bold\">242</span><span style=\"color: #7f7f7f; text-decoration-color: #7f7f7f\">, Completion tokens: </span><span style=\"color: #7fbfbf; text-decoration-color: #7fbfbf; font-weight: bold\">61</span>\n",
       "</pre>\n"
      ],
      "text/plain": [
       "\u001b[2mUsage - Prompt tokens: \u001b[0m\u001b[1;2;36m242\u001b[0m\u001b[2m, Completion tokens: \u001b[0m\u001b[1;2;36m61\u001b[0m\n"
      ]
     },
     "metadata": {},
     "output_type": "display_data"
    },
    {
     "data": {
      "text/html": [
       "<pre style=\"white-space:pre;overflow-x:auto;line-height:normal;font-family:Menlo,'DejaVu Sans Mono',consolas,'Courier New',monospace\">――――――――――――――――――――――――――――――――――――――――――――――――――――――――――――――――――――――――――――――――\n",
       "</pre>\n"
      ],
      "text/plain": [
       "――――――――――――――――――――――――――――――――――――――――――――――――――――――――――――――――――――――――――――――――\n"
      ]
     },
     "metadata": {},
     "output_type": "display_data"
    },
    {
     "data": {
      "text/html": [
       "<pre style=\"white-space:pre;overflow-x:auto;line-height:normal;font-family:Menlo,'DejaVu Sans Mono',consolas,'Courier New',monospace\"><span style=\"color: #000080; text-decoration-color: #000080\">╭────────────────────────────────────────────────── </span><span style=\"color: #000080; text-decoration-color: #000080; font-weight: bold\">Assistant1</span><span style=\"color: #000080; text-decoration-color: #000080\"> ───────────────────────────────────────────────────╮</span>\n",
       "<span style=\"color: #000080; text-decoration-color: #000080\">│</span> OK, here is the next count from 1 to 10:                                                                        <span style=\"color: #000080; text-decoration-color: #000080\">│</span>\n",
       "<span style=\"color: #000080; text-decoration-color: #000080\">│</span>                                                                                                                 <span style=\"color: #000080; text-decoration-color: #000080\">│</span>\n",
       "<span style=\"color: #000080; text-decoration-color: #000080\">│</span> 21 [TWENTY-EIGHTH]                                                                                              <span style=\"color: #000080; text-decoration-color: #000080\">│</span>\n",
       "<span style=\"color: #000080; text-decoration-color: #000080\">╰─────────────────────────────────────────────────────────────────────────────────────────────────────────────────╯</span>\n",
       "</pre>\n"
      ],
      "text/plain": [
       "\u001b[34m╭─\u001b[0m\u001b[34m─────────────────────────────────────────────────\u001b[0m\u001b[34m \u001b[0m\u001b[1;34mAssistant1\u001b[0m\u001b[34m \u001b[0m\u001b[34m──────────────────────────────────────────────────\u001b[0m\u001b[34m─╮\u001b[0m\n",
       "\u001b[34m│\u001b[0m OK, here is the next count from 1 to 10:                                                                        \u001b[34m│\u001b[0m\n",
       "\u001b[34m│\u001b[0m                                                                                                                 \u001b[34m│\u001b[0m\n",
       "\u001b[34m│\u001b[0m 21 [TWENTY-EIGHTH]                                                                                              \u001b[34m│\u001b[0m\n",
       "\u001b[34m╰─────────────────────────────────────────────────────────────────────────────────────────────────────────────────╯\u001b[0m\n"
      ]
     },
     "metadata": {},
     "output_type": "display_data"
    },
    {
     "data": {
      "text/html": [
       "<pre style=\"white-space:pre;overflow-x:auto;line-height:normal;font-family:Menlo,'DejaVu Sans Mono',consolas,'Courier New',monospace\"><span style=\"color: #7f7f7f; text-decoration-color: #7f7f7f\">Usage - Prompt tokens: </span><span style=\"color: #7fbfbf; text-decoration-color: #7fbfbf; font-weight: bold\">312</span><span style=\"color: #7f7f7f; text-decoration-color: #7f7f7f\">, Completion tokens: </span><span style=\"color: #7fbfbf; text-decoration-color: #7fbfbf; font-weight: bold\">26</span>\n",
       "</pre>\n"
      ],
      "text/plain": [
       "\u001b[2mUsage - Prompt tokens: \u001b[0m\u001b[1;2;36m312\u001b[0m\u001b[2m, Completion tokens: \u001b[0m\u001b[1;2;36m26\u001b[0m\n"
      ]
     },
     "metadata": {},
     "output_type": "display_data"
    },
    {
     "data": {
      "text/html": [
       "<pre style=\"white-space:pre;overflow-x:auto;line-height:normal;font-family:Menlo,'DejaVu Sans Mono',consolas,'Courier New',monospace\">――――――――――――――――――――――――――――――――――――――――――――――――――――――――――――――――――――――――――――――――\n",
       "</pre>\n"
      ],
      "text/plain": [
       "――――――――――――――――――――――――――――――――――――――――――――――――――――――――――――――――――――――――――――――――\n"
      ]
     },
     "metadata": {},
     "output_type": "display_data"
    },
    {
     "data": {
      "text/html": [
       "<pre style=\"white-space:pre;overflow-x:auto;line-height:normal;font-family:Menlo,'DejaVu Sans Mono',consolas,'Courier New',monospace\"><span style=\"color: #000080; text-decoration-color: #000080\">╭────────────────────────────────────────────────── </span><span style=\"color: #000080; text-decoration-color: #000080; font-weight: bold\">Assistant2</span><span style=\"color: #000080; text-decoration-color: #000080\"> ───────────────────────────────────────────────────╮</span>\n",
       "<span style=\"color: #000080; text-decoration-color: #000080\">│</span> COUNTING FROM 1 TO 10:                                                                                          <span style=\"color: #000080; text-decoration-color: #000080\">│</span>\n",
       "<span style=\"color: #000080; text-decoration-color: #000080\">│</span> 1 [ONE]                                                                                                         <span style=\"color: #000080; text-decoration-color: #000080\">│</span>\n",
       "<span style=\"color: #000080; text-decoration-color: #000080\">│</span> 2 [TWO]                                                                                                         <span style=\"color: #000080; text-decoration-color: #000080\">│</span>\n",
       "<span style=\"color: #000080; text-decoration-color: #000080\">│</span> 3 [THREE]                                                                                                       <span style=\"color: #000080; text-decoration-color: #000080\">│</span>\n",
       "<span style=\"color: #000080; text-decoration-color: #000080\">│</span> 4 [FOUR]                                                                                                        <span style=\"color: #000080; text-decoration-color: #000080\">│</span>\n",
       "<span style=\"color: #000080; text-decoration-color: #000080\">│</span> 5 [FIVE]                                                                                                        <span style=\"color: #000080; text-decoration-color: #000080\">│</span>\n",
       "<span style=\"color: #000080; text-decoration-color: #000080\">│</span> 6 [SIX]                                                                                                         <span style=\"color: #000080; text-decoration-color: #000080\">│</span>\n",
       "<span style=\"color: #000080; text-decoration-color: #000080\">│</span> 7 [SEVEN]                                                                                                       <span style=\"color: #000080; text-decoration-color: #000080\">│</span>\n",
       "<span style=\"color: #000080; text-decoration-color: #000080\">│</span> 8 [EIGHT]                                                                                                       <span style=\"color: #000080; text-decoration-color: #000080\">│</span>\n",
       "<span style=\"color: #000080; text-decoration-color: #000080\">│</span> 9 [NINE]                                                                                                        <span style=\"color: #000080; text-decoration-color: #000080\">│</span>\n",
       "<span style=\"color: #000080; text-decoration-color: #000080\">│</span> 10 [TEN]                                                                                                        <span style=\"color: #000080; text-decoration-color: #000080\">│</span>\n",
       "<span style=\"color: #000080; text-decoration-color: #000080\">╰─────────────────────────────────────────────────────────────────────────────────────────────────────────────────╯</span>\n",
       "</pre>\n"
      ],
      "text/plain": [
       "\u001b[34m╭─\u001b[0m\u001b[34m─────────────────────────────────────────────────\u001b[0m\u001b[34m \u001b[0m\u001b[1;34mAssistant2\u001b[0m\u001b[34m \u001b[0m\u001b[34m──────────────────────────────────────────────────\u001b[0m\u001b[34m─╮\u001b[0m\n",
       "\u001b[34m│\u001b[0m COUNTING FROM 1 TO 10:                                                                                          \u001b[34m│\u001b[0m\n",
       "\u001b[34m│\u001b[0m 1 [ONE]                                                                                                         \u001b[34m│\u001b[0m\n",
       "\u001b[34m│\u001b[0m 2 [TWO]                                                                                                         \u001b[34m│\u001b[0m\n",
       "\u001b[34m│\u001b[0m 3 [THREE]                                                                                                       \u001b[34m│\u001b[0m\n",
       "\u001b[34m│\u001b[0m 4 [FOUR]                                                                                                        \u001b[34m│\u001b[0m\n",
       "\u001b[34m│\u001b[0m 5 [FIVE]                                                                                                        \u001b[34m│\u001b[0m\n",
       "\u001b[34m│\u001b[0m 6 [SIX]                                                                                                         \u001b[34m│\u001b[0m\n",
       "\u001b[34m│\u001b[0m 7 [SEVEN]                                                                                                       \u001b[34m│\u001b[0m\n",
       "\u001b[34m│\u001b[0m 8 [EIGHT]                                                                                                       \u001b[34m│\u001b[0m\n",
       "\u001b[34m│\u001b[0m 9 [NINE]                                                                                                        \u001b[34m│\u001b[0m\n",
       "\u001b[34m│\u001b[0m 10 [TEN]                                                                                                        \u001b[34m│\u001b[0m\n",
       "\u001b[34m╰─────────────────────────────────────────────────────────────────────────────────────────────────────────────────╯\u001b[0m\n"
      ]
     },
     "metadata": {},
     "output_type": "display_data"
    },
    {
     "data": {
      "text/html": [
       "<pre style=\"white-space:pre;overflow-x:auto;line-height:normal;font-family:Menlo,'DejaVu Sans Mono',consolas,'Courier New',monospace\"><span style=\"color: #7f7f7f; text-decoration-color: #7f7f7f\">Usage - Prompt tokens: </span><span style=\"color: #7fbfbf; text-decoration-color: #7fbfbf; font-weight: bold\">337</span><span style=\"color: #7f7f7f; text-decoration-color: #7f7f7f\">, Completion tokens: </span><span style=\"color: #7fbfbf; text-decoration-color: #7fbfbf; font-weight: bold\">61</span>\n",
       "</pre>\n"
      ],
      "text/plain": [
       "\u001b[2mUsage - Prompt tokens: \u001b[0m\u001b[1;2;36m337\u001b[0m\u001b[2m, Completion tokens: \u001b[0m\u001b[1;2;36m61\u001b[0m\n"
      ]
     },
     "metadata": {},
     "output_type": "display_data"
    },
    {
     "data": {
      "text/html": [
       "<pre style=\"white-space:pre;overflow-x:auto;line-height:normal;font-family:Menlo,'DejaVu Sans Mono',consolas,'Courier New',monospace\">――――――――――――――――――――――――――――――――――――――――――――――――――――――――――――――――――――――――――――――――\n",
       "</pre>\n"
      ],
      "text/plain": [
       "――――――――――――――――――――――――――――――――――――――――――――――――――――――――――――――――――――――――――――――――\n"
      ]
     },
     "metadata": {},
     "output_type": "display_data"
    },
    {
     "data": {
      "text/html": [
       "<pre style=\"white-space:pre;overflow-x:auto;line-height:normal;font-family:Menlo,'DejaVu Sans Mono',consolas,'Courier New',monospace\"><span style=\"color: #000080; text-decoration-color: #000080\">╭────────────────────────────────────────────────── </span><span style=\"color: #000080; text-decoration-color: #000080; font-weight: bold\">Assistant1</span><span style=\"color: #000080; text-decoration-color: #000080\"> ───────────────────────────────────────────────────╮</span>\n",
       "<span style=\"color: #000080; text-decoration-color: #000080\">│</span> COUNTING FROM 1 TO 10:                                                                                          <span style=\"color: #000080; text-decoration-color: #000080\">│</span>\n",
       "<span style=\"color: #000080; text-decoration-color: #000080\">│</span>                                                                                                                 <span style=\"color: #000080; text-decoration-color: #000080\">│</span>\n",
       "<span style=\"color: #000080; text-decoration-color: #000080\">│</span> - 1 is already in the count.                                                                                    <span style=\"color: #000080; text-decoration-color: #000080\">│</span>\n",
       "<span style=\"color: #000080; text-decoration-color: #000080\">│</span> - 2: One more from 1.                                                                                           <span style=\"color: #000080; text-decoration-color: #000080\">│</span>\n",
       "<span style=\"color: #000080; text-decoration-color: #000080\">│</span> - 3: Two more from 2.                                                                                           <span style=\"color: #000080; text-decoration-color: #000080\">│</span>\n",
       "<span style=\"color: #000080; text-decoration-color: #000080\">│</span> - 4: Go to 8.                                                                                                   <span style=\"color: #000080; text-decoration-color: #000080\">│</span>\n",
       "<span style=\"color: #000080; text-decoration-color: #000080\">│</span> - 5: Three more from 4.                                                                                         <span style=\"color: #000080; text-decoration-color: #000080\">│</span>\n",
       "<span style=\"color: #000080; text-decoration-color: #000080\">│</span> - 6: Four more from 5.                                                                                          <span style=\"color: #000080; text-decoration-color: #000080\">│</span>\n",
       "<span style=\"color: #000080; text-decoration-color: #000080\">│</span>                                                                                                                 <span style=\"color: #000080; text-decoration-color: #000080\">│</span>\n",
       "<span style=\"color: #000080; text-decoration-color: #000080\">│</span> The count goes up from 1, 2, and so on, incrementing by the numbers:                                            <span style=\"color: #000080; text-decoration-color: #000080\">│</span>\n",
       "<span style=\"color: #000080; text-decoration-color: #000080\">│</span>                                                                                                                 <span style=\"color: #000080; text-decoration-color: #000080\">│</span>\n",
       "<span style=\"color: #000080; text-decoration-color: #000080\">│</span> 1 → 2 → 3 → 4 → 5 → 6 → 7 →...                                                                                  <span style=\"color: #000080; text-decoration-color: #000080\">│</span>\n",
       "<span style=\"color: #000080; text-decoration-color: #000080\">│</span> So, to finish counting up to 10, we would indicate those values: 1, 2, 3, 4, 5.                                 <span style=\"color: #000080; text-decoration-color: #000080\">│</span>\n",
       "<span style=\"color: #000080; text-decoration-color: #000080\">╰─────────────────────────────────────────────────────────────────────────────────────────────────────────────────╯</span>\n",
       "</pre>\n"
      ],
      "text/plain": [
       "\u001b[34m╭─\u001b[0m\u001b[34m─────────────────────────────────────────────────\u001b[0m\u001b[34m \u001b[0m\u001b[1;34mAssistant1\u001b[0m\u001b[34m \u001b[0m\u001b[34m──────────────────────────────────────────────────\u001b[0m\u001b[34m─╮\u001b[0m\n",
       "\u001b[34m│\u001b[0m COUNTING FROM 1 TO 10:                                                                                          \u001b[34m│\u001b[0m\n",
       "\u001b[34m│\u001b[0m                                                                                                                 \u001b[34m│\u001b[0m\n",
       "\u001b[34m│\u001b[0m - 1 is already in the count.                                                                                    \u001b[34m│\u001b[0m\n",
       "\u001b[34m│\u001b[0m - 2: One more from 1.                                                                                           \u001b[34m│\u001b[0m\n",
       "\u001b[34m│\u001b[0m - 3: Two more from 2.                                                                                           \u001b[34m│\u001b[0m\n",
       "\u001b[34m│\u001b[0m - 4: Go to 8.                                                                                                   \u001b[34m│\u001b[0m\n",
       "\u001b[34m│\u001b[0m - 5: Three more from 4.                                                                                         \u001b[34m│\u001b[0m\n",
       "\u001b[34m│\u001b[0m - 6: Four more from 5.                                                                                          \u001b[34m│\u001b[0m\n",
       "\u001b[34m│\u001b[0m                                                                                                                 \u001b[34m│\u001b[0m\n",
       "\u001b[34m│\u001b[0m The count goes up from 1, 2, and so on, incrementing by the numbers:                                            \u001b[34m│\u001b[0m\n",
       "\u001b[34m│\u001b[0m                                                                                                                 \u001b[34m│\u001b[0m\n",
       "\u001b[34m│\u001b[0m 1 → 2 → 3 → 4 → 5 → 6 → 7 →...                                                                                  \u001b[34m│\u001b[0m\n",
       "\u001b[34m│\u001b[0m So, to finish counting up to 10, we would indicate those values: 1, 2, 3, 4, 5.                                 \u001b[34m│\u001b[0m\n",
       "\u001b[34m╰─────────────────────────────────────────────────────────────────────────────────────────────────────────────────╯\u001b[0m\n"
      ]
     },
     "metadata": {},
     "output_type": "display_data"
    },
    {
     "data": {
      "text/html": [
       "<pre style=\"white-space:pre;overflow-x:auto;line-height:normal;font-family:Menlo,'DejaVu Sans Mono',consolas,'Courier New',monospace\"><span style=\"color: #7f7f7f; text-decoration-color: #7f7f7f\">Usage - Prompt tokens: </span><span style=\"color: #7fbfbf; text-decoration-color: #7fbfbf; font-weight: bold\">407</span><span style=\"color: #7f7f7f; text-decoration-color: #7f7f7f\">, Completion tokens: </span><span style=\"color: #7fbfbf; text-decoration-color: #7fbfbf; font-weight: bold\">143</span>\n",
       "</pre>\n"
      ],
      "text/plain": [
       "\u001b[2mUsage - Prompt tokens: \u001b[0m\u001b[1;2;36m407\u001b[0m\u001b[2m, Completion tokens: \u001b[0m\u001b[1;2;36m143\u001b[0m\n"
      ]
     },
     "metadata": {},
     "output_type": "display_data"
    },
    {
     "data": {
      "text/html": [
       "<pre style=\"white-space:pre;overflow-x:auto;line-height:normal;font-family:Menlo,'DejaVu Sans Mono',consolas,'Courier New',monospace\">――――――――――――――――――――――――――――――――――――――――――――――――――――――――――――――――――――――――――――――――\n",
       "</pre>\n"
      ],
      "text/plain": [
       "――――――――――――――――――――――――――――――――――――――――――――――――――――――――――――――――――――――――――――――――\n"
      ]
     },
     "metadata": {},
     "output_type": "display_data"
    },
    {
     "data": {
      "text/html": [
       "<pre style=\"white-space:pre;overflow-x:auto;line-height:normal;font-family:Menlo,'DejaVu Sans Mono',consolas,'Courier New',monospace\"><span style=\"color: #000080; text-decoration-color: #000080\">╭────────────────────────────────────────────────── </span><span style=\"color: #000080; text-decoration-color: #000080; font-weight: bold\">Assistant2</span><span style=\"color: #000080; text-decoration-color: #000080\"> ───────────────────────────────────────────────────╮</span>\n",
       "<span style=\"color: #000080; text-decoration-color: #000080\">│</span> COUNTING FROM 1 TO 10:                                                                                          <span style=\"color: #000080; text-decoration-color: #000080\">│</span>\n",
       "<span style=\"color: #000080; text-decoration-color: #000080\">│</span> • 8 [EIGHT]                                                                                                     <span style=\"color: #000080; text-decoration-color: #000080\">│</span>\n",
       "<span style=\"color: #000080; text-decoration-color: #000080\">│</span> • 9 [NINE]                                                                                                      <span style=\"color: #000080; text-decoration-color: #000080\">│</span>\n",
       "<span style=\"color: #000080; text-decoration-color: #000080\">╰─────────────────────────────────────────────────────────────────────────────────────────────────────────────────╯</span>\n",
       "</pre>\n"
      ],
      "text/plain": [
       "\u001b[34m╭─\u001b[0m\u001b[34m─────────────────────────────────────────────────\u001b[0m\u001b[34m \u001b[0m\u001b[1;34mAssistant2\u001b[0m\u001b[34m \u001b[0m\u001b[34m──────────────────────────────────────────────────\u001b[0m\u001b[34m─╮\u001b[0m\n",
       "\u001b[34m│\u001b[0m COUNTING FROM 1 TO 10:                                                                                          \u001b[34m│\u001b[0m\n",
       "\u001b[34m│\u001b[0m • 8 [EIGHT]                                                                                                     \u001b[34m│\u001b[0m\n",
       "\u001b[34m│\u001b[0m • 9 [NINE]                                                                                                      \u001b[34m│\u001b[0m\n",
       "\u001b[34m╰─────────────────────────────────────────────────────────────────────────────────────────────────────────────────╯\u001b[0m\n"
      ]
     },
     "metadata": {},
     "output_type": "display_data"
    },
    {
     "data": {
      "text/html": [
       "<pre style=\"white-space:pre;overflow-x:auto;line-height:normal;font-family:Menlo,'DejaVu Sans Mono',consolas,'Courier New',monospace\"><span style=\"color: #7f7f7f; text-decoration-color: #7f7f7f\">Usage - Prompt tokens: </span><span style=\"color: #7fbfbf; text-decoration-color: #7fbfbf; font-weight: bold\">549</span><span style=\"color: #7f7f7f; text-decoration-color: #7f7f7f\">, Completion tokens: </span><span style=\"color: #7fbfbf; text-decoration-color: #7fbfbf; font-weight: bold\">25</span>\n",
       "</pre>\n"
      ],
      "text/plain": [
       "\u001b[2mUsage - Prompt tokens: \u001b[0m\u001b[1;2;36m549\u001b[0m\u001b[2m, Completion tokens: \u001b[0m\u001b[1;2;36m25\u001b[0m\n"
      ]
     },
     "metadata": {},
     "output_type": "display_data"
    },
    {
     "data": {
      "text/html": [
       "<pre style=\"white-space:pre;overflow-x:auto;line-height:normal;font-family:Menlo,'DejaVu Sans Mono',consolas,'Courier New',monospace\">――――――――――――――――――――――――――――――――――――――――――――――――――――――――――――――――――――――――――――――――\n",
       "</pre>\n"
      ],
      "text/plain": [
       "――――――――――――――――――――――――――――――――――――――――――――――――――――――――――――――――――――――――――――――――\n"
      ]
     },
     "metadata": {},
     "output_type": "display_data"
    },
    {
     "data": {
      "text/html": [
       "<pre style=\"white-space:pre;overflow-x:auto;line-height:normal;font-family:Menlo,'DejaVu Sans Mono',consolas,'Courier New',monospace\"><span style=\"color: #000080; text-decoration-color: #000080\">╭────────────────────────────────────────────────── </span><span style=\"color: #000080; text-decoration-color: #000080; font-weight: bold\">Assistant1</span><span style=\"color: #000080; text-decoration-color: #000080\"> ───────────────────────────────────────────────────╮</span>\n",
       "<span style=\"color: #000080; text-decoration-color: #000080\">│</span> The count from 1 to 10 has been completed, and I have indicated the values that represent those numbers:        <span style=\"color: #000080; text-decoration-color: #000080\">│</span>\n",
       "<span style=\"color: #000080; text-decoration-color: #000080\">│</span>                                                                                                                 <span style=\"color: #000080; text-decoration-color: #000080\">│</span>\n",
       "<span style=\"color: #000080; text-decoration-color: #000080\">│</span> - Eight is already in the list.                                                                                 <span style=\"color: #000080; text-decoration-color: #000080\">│</span>\n",
       "<span style=\"color: #000080; text-decoration-color: #000080\">│</span> - Nine is next after eight.                                                                                     <span style=\"color: #000080; text-decoration-color: #000080\">│</span>\n",
       "<span style=\"color: #000080; text-decoration-color: #000080\">│</span>                                                                                                                 <span style=\"color: #000080; text-decoration-color: #000080\">│</span>\n",
       "<span style=\"color: #000080; text-decoration-color: #000080\">│</span> So, the final counts are:                                                                                       <span style=\"color: #000080; text-decoration-color: #000080\">│</span>\n",
       "<span style=\"color: #000080; text-decoration-color: #000080\">│</span> 18 → 10, 29 → 10, 39 → 10. The 40th \"Count\" would be 10 as well.                                                <span style=\"color: #000080; text-decoration-color: #000080\">│</span>\n",
       "<span style=\"color: #000080; text-decoration-color: #000080\">╰─────────────────────────────────────────────────────────────────────────────────────────────────────────────────╯</span>\n",
       "</pre>\n"
      ],
      "text/plain": [
       "\u001b[34m╭─\u001b[0m\u001b[34m─────────────────────────────────────────────────\u001b[0m\u001b[34m \u001b[0m\u001b[1;34mAssistant1\u001b[0m\u001b[34m \u001b[0m\u001b[34m──────────────────────────────────────────────────\u001b[0m\u001b[34m─╮\u001b[0m\n",
       "\u001b[34m│\u001b[0m The count from 1 to 10 has been completed, and I have indicated the values that represent those numbers:        \u001b[34m│\u001b[0m\n",
       "\u001b[34m│\u001b[0m                                                                                                                 \u001b[34m│\u001b[0m\n",
       "\u001b[34m│\u001b[0m - Eight is already in the list.                                                                                 \u001b[34m│\u001b[0m\n",
       "\u001b[34m│\u001b[0m - Nine is next after eight.                                                                                     \u001b[34m│\u001b[0m\n",
       "\u001b[34m│\u001b[0m                                                                                                                 \u001b[34m│\u001b[0m\n",
       "\u001b[34m│\u001b[0m So, the final counts are:                                                                                       \u001b[34m│\u001b[0m\n",
       "\u001b[34m│\u001b[0m 18 → 10, 29 → 10, 39 → 10. The 40th \"Count\" would be 10 as well.                                                \u001b[34m│\u001b[0m\n",
       "\u001b[34m╰─────────────────────────────────────────────────────────────────────────────────────────────────────────────────╯\u001b[0m\n"
      ]
     },
     "metadata": {},
     "output_type": "display_data"
    },
    {
     "data": {
      "text/html": [
       "<pre style=\"white-space:pre;overflow-x:auto;line-height:normal;font-family:Menlo,'DejaVu Sans Mono',consolas,'Courier New',monospace\"><span style=\"color: #7f7f7f; text-decoration-color: #7f7f7f\">Usage - Prompt tokens: </span><span style=\"color: #7fbfbf; text-decoration-color: #7fbfbf; font-weight: bold\">583</span><span style=\"color: #7f7f7f; text-decoration-color: #7f7f7f\">, Completion tokens: </span><span style=\"color: #7fbfbf; text-decoration-color: #7fbfbf; font-weight: bold\">86</span>\n",
       "</pre>\n"
      ],
      "text/plain": [
       "\u001b[2mUsage - Prompt tokens: \u001b[0m\u001b[1;2;36m583\u001b[0m\u001b[2m, Completion tokens: \u001b[0m\u001b[1;2;36m86\u001b[0m\n"
      ]
     },
     "metadata": {},
     "output_type": "display_data"
    },
    {
     "data": {
      "text/html": [
       "<pre style=\"white-space:pre;overflow-x:auto;line-height:normal;font-family:Menlo,'DejaVu Sans Mono',consolas,'Courier New',monospace\">――――――――――――――――――――――――――――――――――――――――――――――――――――――――――――――――――――――――――――――――\n",
       "</pre>\n"
      ],
      "text/plain": [
       "――――――――――――――――――――――――――――――――――――――――――――――――――――――――――――――――――――――――――――――――\n"
      ]
     },
     "metadata": {},
     "output_type": "display_data"
    },
    {
     "data": {
      "text/html": [
       "<pre style=\"white-space:pre;overflow-x:auto;line-height:normal;font-family:Menlo,'DejaVu Sans Mono',consolas,'Courier New',monospace\"><span style=\"color: #000080; text-decoration-color: #000080\">╭────────────────────────────────────────────────── </span><span style=\"color: #000080; text-decoration-color: #000080; font-weight: bold\">Assistant2</span><span style=\"color: #000080; text-decoration-color: #000080\"> ───────────────────────────────────────────────────╮</span>\n",
       "<span style=\"color: #000080; text-decoration-color: #000080\">│</span> Thank you for providing a more detailed count from step one to ten and indicating where the values come from.   <span style=\"color: #000080; text-decoration-color: #000080\">│</span>\n",
       "<span style=\"color: #000080; text-decoration-color: #000080\">│</span> This system is designed to ensure clarity and predictability in counting sequences up to any given number by    <span style=\"color: #000080; text-decoration-color: #000080\">│</span>\n",
       "<span style=\"color: #000080; text-decoration-color: #000080\">│</span> placing numbers after each other.                                                                               <span style=\"color: #000080; text-decoration-color: #000080\">│</span>\n",
       "<span style=\"color: #000080; text-decoration-color: #000080\">│</span>                                                                                                                 <span style=\"color: #000080; text-decoration-color: #000080\">│</span>\n",
       "<span style=\"color: #000080; text-decoration-color: #000080\">│</span> I'll now continue with:                                                                                         <span style=\"color: #000080; text-decoration-color: #000080\">│</span>\n",
       "<span style=\"color: #000080; text-decoration-color: #000080\">│</span>                                                                                                                 <span style=\"color: #000080; text-decoration-color: #000080\">│</span>\n",
       "<span style=\"color: #000080; text-decoration-color: #000080\">│</span> Counting from 1 to 20:                                                                                          <span style=\"color: #000080; text-decoration-color: #000080\">│</span>\n",
       "<span style=\"color: #000080; text-decoration-color: #000080\">│</span> - 8 → 1 to 20                                                                                                   <span style=\"color: #000080; text-decoration-color: #000080\">│</span>\n",
       "<span style=\"color: #000080; text-decoration-color: #000080\">│</span> - 9 → 1 to 29, 20 [TEN]                                                                                         <span style=\"color: #000080; text-decoration-color: #000080\">│</span>\n",
       "<span style=\"color: #000080; text-decoration-color: #000080\">│</span> - 10 → End of sequence.                                                                                         <span style=\"color: #000080; text-decoration-color: #000080\">│</span>\n",
       "<span style=\"color: #000080; text-decoration-color: #000080\">│</span> Is this the right approach?                                                                                     <span style=\"color: #000080; text-decoration-color: #000080\">│</span>\n",
       "<span style=\"color: #000080; text-decoration-color: #000080\">│</span>                                                                                                                 <span style=\"color: #000080; text-decoration-color: #000080\">│</span>\n",
       "<span style=\"color: #000080; text-decoration-color: #000080\">│</span> Please let me know if I've addressed your previous request or should continue with a different count.           <span style=\"color: #000080; text-decoration-color: #000080\">│</span>\n",
       "<span style=\"color: #000080; text-decoration-color: #000080\">╰─────────────────────────────────────────────────────────────────────────────────────────────────────────────────╯</span>\n",
       "</pre>\n"
      ],
      "text/plain": [
       "\u001b[34m╭─\u001b[0m\u001b[34m─────────────────────────────────────────────────\u001b[0m\u001b[34m \u001b[0m\u001b[1;34mAssistant2\u001b[0m\u001b[34m \u001b[0m\u001b[34m──────────────────────────────────────────────────\u001b[0m\u001b[34m─╮\u001b[0m\n",
       "\u001b[34m│\u001b[0m Thank you for providing a more detailed count from step one to ten and indicating where the values come from.   \u001b[34m│\u001b[0m\n",
       "\u001b[34m│\u001b[0m This system is designed to ensure clarity and predictability in counting sequences up to any given number by    \u001b[34m│\u001b[0m\n",
       "\u001b[34m│\u001b[0m placing numbers after each other.                                                                               \u001b[34m│\u001b[0m\n",
       "\u001b[34m│\u001b[0m                                                                                                                 \u001b[34m│\u001b[0m\n",
       "\u001b[34m│\u001b[0m I'll now continue with:                                                                                         \u001b[34m│\u001b[0m\n",
       "\u001b[34m│\u001b[0m                                                                                                                 \u001b[34m│\u001b[0m\n",
       "\u001b[34m│\u001b[0m Counting from 1 to 20:                                                                                          \u001b[34m│\u001b[0m\n",
       "\u001b[34m│\u001b[0m - 8 → 1 to 20                                                                                                   \u001b[34m│\u001b[0m\n",
       "\u001b[34m│\u001b[0m - 9 → 1 to 29, 20 [TEN]                                                                                         \u001b[34m│\u001b[0m\n",
       "\u001b[34m│\u001b[0m - 10 → End of sequence.                                                                                         \u001b[34m│\u001b[0m\n",
       "\u001b[34m│\u001b[0m Is this the right approach?                                                                                     \u001b[34m│\u001b[0m\n",
       "\u001b[34m│\u001b[0m                                                                                                                 \u001b[34m│\u001b[0m\n",
       "\u001b[34m│\u001b[0m Please let me know if I've addressed your previous request or should continue with a different count.           \u001b[34m│\u001b[0m\n",
       "\u001b[34m╰─────────────────────────────────────────────────────────────────────────────────────────────────────────────────╯\u001b[0m\n"
      ]
     },
     "metadata": {},
     "output_type": "display_data"
    },
    {
     "data": {
      "text/html": [
       "<pre style=\"white-space:pre;overflow-x:auto;line-height:normal;font-family:Menlo,'DejaVu Sans Mono',consolas,'Courier New',monospace\"><span style=\"color: #7f7f7f; text-decoration-color: #7f7f7f\">Usage - Prompt tokens: </span><span style=\"color: #7fbfbf; text-decoration-color: #7fbfbf; font-weight: bold\">668</span><span style=\"color: #7f7f7f; text-decoration-color: #7f7f7f\">, Completion tokens: </span><span style=\"color: #7fbfbf; text-decoration-color: #7fbfbf; font-weight: bold\">126</span>\n",
       "</pre>\n"
      ],
      "text/plain": [
       "\u001b[2mUsage - Prompt tokens: \u001b[0m\u001b[1;2;36m668\u001b[0m\u001b[2m, Completion tokens: \u001b[0m\u001b[1;2;36m126\u001b[0m\n"
      ]
     },
     "metadata": {},
     "output_type": "display_data"
    },
    {
     "data": {
      "text/html": [
       "<pre style=\"white-space:pre;overflow-x:auto;line-height:normal;font-family:Menlo,'DejaVu Sans Mono',consolas,'Courier New',monospace\">――――――――――――――――――――――――――――――――――――――――――――――――――――――――――――――――――――――――――――――――\n",
       "</pre>\n"
      ],
      "text/plain": [
       "――――――――――――――――――――――――――――――――――――――――――――――――――――――――――――――――――――――――――――――――\n"
      ]
     },
     "metadata": {},
     "output_type": "display_data"
    },
    {
     "data": {
      "text/html": [
       "<pre style=\"white-space:pre;overflow-x:auto;line-height:normal;font-family:Menlo,'DejaVu Sans Mono',consolas,'Courier New',monospace\">\n",
       "<span style=\"color: #808000; text-decoration-color: #808000; font-weight: bold\">Task Result Summary</span>\n",
       "</pre>\n"
      ],
      "text/plain": [
       "\n",
       "\u001b[1;33mTask Result Summary\u001b[0m\n"
      ]
     },
     "metadata": {},
     "output_type": "display_data"
    },
    {
     "data": {
      "text/html": [
       "<pre style=\"white-space:pre;overflow-x:auto;line-height:normal;font-family:Menlo,'DejaVu Sans Mono',consolas,'Courier New',monospace\">Stop Reason: Maximum number of messages <span style=\"color: #008080; text-decoration-color: #008080; font-weight: bold\">11</span> reached, current message count: <span style=\"color: #008080; text-decoration-color: #008080; font-weight: bold\">11</span>\n",
       "</pre>\n"
      ],
      "text/plain": [
       "Stop Reason: Maximum number of messages \u001b[1;36m11\u001b[0m reached, current message count: \u001b[1;36m11\u001b[0m\n"
      ]
     },
     "metadata": {},
     "output_type": "display_data"
    },
    {
     "data": {
      "text/html": [
       "<pre style=\"white-space:pre;overflow-x:auto;line-height:normal;font-family:Menlo,'DejaVu Sans Mono',consolas,'Courier New',monospace\">――――――――――――――――――――――――――――――――――――――――――――――――――――――――――――――――――――――――――――――――\n",
       "</pre>\n"
      ],
      "text/plain": [
       "――――――――――――――――――――――――――――――――――――――――――――――――――――――――――――――――――――――――――――――――\n"
      ]
     },
     "metadata": {},
     "output_type": "display_data"
    }
   ],
   "source": [
    "import nest_asyncio\n",
    "nest_asyncio.apply()\n",
    "\n",
    "import asyncio\n",
    "from autogen_agentchat.agents import AssistantAgent\n",
    "from autogen_agentchat.conditions import MaxMessageTermination\n",
    "from autogen_agentchat.teams import RoundRobinGroupChat\n",
    "from autogen_ext.models.openai import OpenAIChatCompletionClient\n",
    "from rich.console import Console\n",
    "from rich.panel import Panel\n",
    "\n",
    "console = Console()\n",
    "\n",
    "# # ollama本地部署\n",
    "def get_model_client_ollama() -> OpenAIChatCompletionClient:  # type: ignore\n",
    "    return OpenAIChatCompletionClient(\n",
    "        model=\"qwen2.5:0.5b\",\n",
    "        api_key=\"ollama\",\n",
    "        base_url=\"http://127.0.0.1:11434/v1\",\n",
    "        model_capabilities={\n",
    "            \"json_output\": False,\n",
    "            \"vision\": False,\n",
    "            \"function_calling\": True,\n",
    "        },\n",
    "    )\n",
    "\n",
    "\n",
    "\n",
    "async def main() -> None:\n",
    "\n",
    "    model_client = get_model_client_ollama()\n",
    "\n",
    "    agent1 = AssistantAgent(\"Assistant1\", model_client=model_client)\n",
    "    agent2 = AssistantAgent(\"Assistant2\", model_client=model_client)\n",
    "\n",
    "    termination = MaxMessageTermination(11)\n",
    "\n",
    "    team = RoundRobinGroupChat([agent1, agent2], termination_condition=termination)\n",
    "\n",
    "    stream = team.run_stream(task=\"Count from 1 to 10, respond one at a time.\")\n",
    "    \n",
    "    async for message in stream:\n",
    "        if hasattr(message, 'content'):\n",
    "            # Print message in panel with source as title\n",
    "            console.print(Panel(\n",
    "                message.content,\n",
    "                title=f\"[bold blue]{message.source}[/bold blue]\",\n",
    "                border_style=\"blue\"\n",
    "            ))\n",
    "            \n",
    "            # Print usage statistics if available\n",
    "            if message.models_usage:\n",
    "                console.print(f\"[dim]Usage - Prompt tokens: {message.models_usage.prompt_tokens}, \"\n",
    "                         f\"Completion tokens: {message.models_usage.completion_tokens}[/dim]\")\n",
    "            console.print(\"―\" * 80)  # Separator line\n",
    "        else:  # TaskResult object\n",
    "            console.print(\"\\n[bold yellow]Task Result Summary[/bold yellow]\")\n",
    "            console.print(f\"Stop Reason: {message.stop_reason}\")\n",
    "            console.print(\"―\" * 80)\n",
    "\n",
    "asyncio.run(main())\n"
   ]
  },
  {
   "cell_type": "markdown",
   "metadata": {},
   "source": [
    "## openai调用"
   ]
  },
  {
   "cell_type": "code",
   "execution_count": 6,
   "metadata": {},
   "outputs": [
    {
     "ename": "ValueError",
     "evalue": "model_info is required when model name is not a valid OpenAI model",
     "output_type": "error",
     "traceback": [
      "\u001b[1;31m---------------------------------------------------------------------------\u001b[0m",
      "\u001b[1;31mKeyError\u001b[0m                                  Traceback (most recent call last)",
      "File \u001b[1;32md:\\Softwares\\miniconda\\envs\\autogen\\lib\\site-packages\\autogen_ext\\models\\openai\\_openai_client.py:376\u001b[0m, in \u001b[0;36mBaseOpenAIChatCompletionClient.__init__\u001b[1;34m(self, client, create_args, model_capabilities, model_info, add_name_prefixes)\u001b[0m\n\u001b[0;32m    375\u001b[0m \u001b[38;5;28;01mtry\u001b[39;00m:\n\u001b[1;32m--> 376\u001b[0m     \u001b[38;5;28mself\u001b[39m\u001b[38;5;241m.\u001b[39m_model_info \u001b[38;5;241m=\u001b[39m \u001b[43m_model_info\u001b[49m\u001b[38;5;241;43m.\u001b[39;49m\u001b[43mget_info\u001b[49m\u001b[43m(\u001b[49m\u001b[43mcreate_args\u001b[49m\u001b[43m[\u001b[49m\u001b[38;5;124;43m\"\u001b[39;49m\u001b[38;5;124;43mmodel\u001b[39;49m\u001b[38;5;124;43m\"\u001b[39;49m\u001b[43m]\u001b[49m\u001b[43m)\u001b[49m\n\u001b[0;32m    377\u001b[0m \u001b[38;5;28;01mexcept\u001b[39;00m \u001b[38;5;167;01mKeyError\u001b[39;00m \u001b[38;5;28;01mas\u001b[39;00m err:\n",
      "File \u001b[1;32md:\\Softwares\\miniconda\\envs\\autogen\\lib\\site-packages\\autogen_ext\\models\\openai\\_model_info.py:206\u001b[0m, in \u001b[0;36mget_info\u001b[1;34m(model)\u001b[0m\n\u001b[0;32m    205\u001b[0m resolved_model \u001b[38;5;241m=\u001b[39m resolve_model(model)\n\u001b[1;32m--> 206\u001b[0m \u001b[38;5;28;01mreturn\u001b[39;00m \u001b[43m_MODEL_INFO\u001b[49m\u001b[43m[\u001b[49m\u001b[43mresolved_model\u001b[49m\u001b[43m]\u001b[49m\n",
      "\u001b[1;31mKeyError\u001b[0m: 'qwen2.5-14b-instruct-1m'",
      "\nThe above exception was the direct cause of the following exception:\n",
      "\u001b[1;31mValueError\u001b[0m                                Traceback (most recent call last)",
      "Cell \u001b[1;32mIn[6], line 10\u001b[0m\n\u001b[0;32m      1\u001b[0m \u001b[38;5;28;01mfrom\u001b[39;00m\u001b[38;5;250m \u001b[39m\u001b[38;5;21;01mautogen_ext\u001b[39;00m\u001b[38;5;21;01m.\u001b[39;00m\u001b[38;5;21;01mmodels\u001b[39;00m\u001b[38;5;21;01m.\u001b[39;00m\u001b[38;5;21;01mopenai\u001b[39;00m\u001b[38;5;250m \u001b[39m\u001b[38;5;28;01mimport\u001b[39;00m OpenAIChatCompletionClient\n\u001b[0;32m      3\u001b[0m \u001b[38;5;66;03m# openai_model_client = OpenAIChatCompletionClient(\u001b[39;00m\n\u001b[0;32m      4\u001b[0m \u001b[38;5;66;03m#     model=\"gpt-4o-mini\",\u001b[39;00m\n\u001b[0;32m      5\u001b[0m \u001b[38;5;66;03m#     base_url=\"https://api.kwwai.top/v1\",\u001b[39;00m\n\u001b[0;32m      6\u001b[0m \u001b[38;5;66;03m#     api_key=\"sk-GWGOoy9F8md5STXfeW1rNmUYFIncXq5wtu5iwlwByCemKPdq\"\u001b[39;00m\n\u001b[0;32m      7\u001b[0m \u001b[38;5;66;03m#     # api_key=\"sk-...\", # Optional if you have an OPENAI_API_KEY environment variable set.\u001b[39;00m\n\u001b[0;32m      8\u001b[0m \u001b[38;5;66;03m# )\u001b[39;00m\n\u001b[1;32m---> 10\u001b[0m openai_model_client \u001b[38;5;241m=\u001b[39m \u001b[43mOpenAIChatCompletionClient\u001b[49m\u001b[43m(\u001b[49m\n\u001b[0;32m     11\u001b[0m \u001b[43m    \u001b[49m\u001b[43mmodel\u001b[49m\u001b[38;5;241;43m=\u001b[39;49m\u001b[38;5;124;43m\"\u001b[39;49m\u001b[38;5;124;43mqwen2.5-14b-instruct-1m\u001b[39;49m\u001b[38;5;124;43m\"\u001b[39;49m\u001b[43m,\u001b[49m\n\u001b[0;32m     12\u001b[0m \u001b[43m    \u001b[49m\u001b[43mbase_url\u001b[49m\u001b[38;5;241;43m=\u001b[39;49m\u001b[38;5;124;43m\"\u001b[39;49m\u001b[38;5;124;43mhttps://dashscope.aliyuncs.com/compatible-mode/v1\u001b[39;49m\u001b[38;5;124;43m\"\u001b[39;49m\u001b[43m,\u001b[49m\n\u001b[0;32m     13\u001b[0m \u001b[43m    \u001b[49m\u001b[43mapi_key\u001b[49m\u001b[38;5;241;43m=\u001b[39;49m\u001b[38;5;124;43m\"\u001b[39;49m\u001b[38;5;124;43msk-32a08f0b1f9c40dabec266f77921a35a\u001b[39;49m\u001b[38;5;124;43m\"\u001b[39;49m\n\u001b[0;32m     14\u001b[0m \u001b[43m    \u001b[49m\u001b[38;5;66;43;03m# api_key=\"sk-...\", # Optional if you have an OPENAI_API_KEY environment variable set.\u001b[39;49;00m\n\u001b[0;32m     15\u001b[0m \u001b[43m)\u001b[49m\n\u001b[0;32m     17\u001b[0m \u001b[38;5;28;01mfrom\u001b[39;00m\u001b[38;5;250m \u001b[39m\u001b[38;5;21;01mautogen_core\u001b[39;00m\u001b[38;5;21;01m.\u001b[39;00m\u001b[38;5;21;01mmodels\u001b[39;00m\u001b[38;5;250m \u001b[39m\u001b[38;5;28;01mimport\u001b[39;00m UserMessage\n\u001b[0;32m     19\u001b[0m result \u001b[38;5;241m=\u001b[39m \u001b[38;5;28;01mawait\u001b[39;00m openai_model_client\u001b[38;5;241m.\u001b[39mcreate([UserMessage(content\u001b[38;5;241m=\u001b[39m\u001b[38;5;124m\"\u001b[39m\u001b[38;5;124mWhat is the capital of France?\u001b[39m\u001b[38;5;124m\"\u001b[39m, source\u001b[38;5;241m=\u001b[39m\u001b[38;5;124m\"\u001b[39m\u001b[38;5;124muser\u001b[39m\u001b[38;5;124m\"\u001b[39m)])\n",
      "File \u001b[1;32md:\\Softwares\\miniconda\\envs\\autogen\\lib\\site-packages\\autogen_ext\\models\\openai\\_openai_client.py:1188\u001b[0m, in \u001b[0;36mOpenAIChatCompletionClient.__init__\u001b[1;34m(self, **kwargs)\u001b[0m\n\u001b[0;32m   1185\u001b[0m client \u001b[38;5;241m=\u001b[39m _openai_client_from_config(copied_args)\n\u001b[0;32m   1186\u001b[0m create_args \u001b[38;5;241m=\u001b[39m _create_args_from_config(copied_args)\n\u001b[1;32m-> 1188\u001b[0m \u001b[38;5;28;43msuper\u001b[39;49m\u001b[43m(\u001b[49m\u001b[43m)\u001b[49m\u001b[38;5;241;43m.\u001b[39;49m\u001b[38;5;21;43m__init__\u001b[39;49m\u001b[43m(\u001b[49m\n\u001b[0;32m   1189\u001b[0m \u001b[43m    \u001b[49m\u001b[43mclient\u001b[49m\u001b[38;5;241;43m=\u001b[39;49m\u001b[43mclient\u001b[49m\u001b[43m,\u001b[49m\n\u001b[0;32m   1190\u001b[0m \u001b[43m    \u001b[49m\u001b[43mcreate_args\u001b[49m\u001b[38;5;241;43m=\u001b[39;49m\u001b[43mcreate_args\u001b[49m\u001b[43m,\u001b[49m\n\u001b[0;32m   1191\u001b[0m \u001b[43m    \u001b[49m\u001b[43mmodel_capabilities\u001b[49m\u001b[38;5;241;43m=\u001b[39;49m\u001b[43mmodel_capabilities\u001b[49m\u001b[43m,\u001b[49m\n\u001b[0;32m   1192\u001b[0m \u001b[43m    \u001b[49m\u001b[43mmodel_info\u001b[49m\u001b[38;5;241;43m=\u001b[39;49m\u001b[43mmodel_info\u001b[49m\u001b[43m,\u001b[49m\n\u001b[0;32m   1193\u001b[0m \u001b[43m    \u001b[49m\u001b[43madd_name_prefixes\u001b[49m\u001b[38;5;241;43m=\u001b[39;49m\u001b[43madd_name_prefixes\u001b[49m\u001b[43m,\u001b[49m\n\u001b[0;32m   1194\u001b[0m \u001b[43m\u001b[49m\u001b[43m)\u001b[49m\n",
      "File \u001b[1;32md:\\Softwares\\miniconda\\envs\\autogen\\lib\\site-packages\\autogen_ext\\models\\openai\\_openai_client.py:378\u001b[0m, in \u001b[0;36mBaseOpenAIChatCompletionClient.__init__\u001b[1;34m(self, client, create_args, model_capabilities, model_info, add_name_prefixes)\u001b[0m\n\u001b[0;32m    376\u001b[0m         \u001b[38;5;28mself\u001b[39m\u001b[38;5;241m.\u001b[39m_model_info \u001b[38;5;241m=\u001b[39m _model_info\u001b[38;5;241m.\u001b[39mget_info(create_args[\u001b[38;5;124m\"\u001b[39m\u001b[38;5;124mmodel\u001b[39m\u001b[38;5;124m\"\u001b[39m])\n\u001b[0;32m    377\u001b[0m     \u001b[38;5;28;01mexcept\u001b[39;00m \u001b[38;5;167;01mKeyError\u001b[39;00m \u001b[38;5;28;01mas\u001b[39;00m err:\n\u001b[1;32m--> 378\u001b[0m         \u001b[38;5;28;01mraise\u001b[39;00m \u001b[38;5;167;01mValueError\u001b[39;00m(\u001b[38;5;124m\"\u001b[39m\u001b[38;5;124mmodel_info is required when model name is not a valid OpenAI model\u001b[39m\u001b[38;5;124m\"\u001b[39m) \u001b[38;5;28;01mfrom\u001b[39;00m\u001b[38;5;250m \u001b[39m\u001b[38;5;21;01merr\u001b[39;00m\n\u001b[0;32m    379\u001b[0m \u001b[38;5;28;01melif\u001b[39;00m model_capabilities \u001b[38;5;129;01mis\u001b[39;00m \u001b[38;5;129;01mnot\u001b[39;00m \u001b[38;5;28;01mNone\u001b[39;00m \u001b[38;5;129;01mand\u001b[39;00m model_info \u001b[38;5;129;01mis\u001b[39;00m \u001b[38;5;129;01mnot\u001b[39;00m \u001b[38;5;28;01mNone\u001b[39;00m:\n\u001b[0;32m    380\u001b[0m     \u001b[38;5;28;01mraise\u001b[39;00m \u001b[38;5;167;01mValueError\u001b[39;00m(\u001b[38;5;124m\"\u001b[39m\u001b[38;5;124mmodel_capabilities and model_info are mutually exclusive\u001b[39m\u001b[38;5;124m\"\u001b[39m)\n",
      "\u001b[1;31mValueError\u001b[0m: model_info is required when model name is not a valid OpenAI model"
     ]
    }
   ],
   "source": [
    "from autogen_ext.models.openai import OpenAIChatCompletionClient\n",
    "\n",
    "# openai_model_client = OpenAIChatCompletionClient(\n",
    "#     model=\"gpt-4o-mini\",\n",
    "#     base_url=\"https://api.kwwai.top/v1\",\n",
    "#     api_key=\"sk-GWGOoy9F8md5STXfeW1rNmUYFIncXq5wtu5iwlwByCemKPdq\"\n",
    "#     # api_key=\"sk-...\", # Optional if you have an OPENAI_API_KEY environment variable set.\n",
    "# )\n",
    "\n",
    "openai_model_client = OpenAIChatCompletionClient(\n",
    "    model=\"qwen2.5-14b-instruct-1m\",\n",
    "    base_url=\"https://dashscope.aliyuncs.com/compatible-mode/v1\",\n",
    "    api_key=\"sk-32a08f0b1f9c40dabec266f77921a35a\"\n",
    "    # api_key=\"sk-...\", # Optional if you have an OPENAI_API_KEY environment variable set.\n",
    ")\n",
    "\n",
    "from autogen_core.models import UserMessage\n",
    "\n",
    "result = await openai_model_client.create([UserMessage(content=\"What is the capital of France?\", source=\"user\")])\n",
    "print(result)\n"
   ]
  },
  {
   "cell_type": "markdown",
   "metadata": {},
   "source": [
    "## autogen调用其他模型示例"
   ]
  },
  {
   "cell_type": "code",
   "execution_count": null,
   "metadata": {},
   "outputs": [
    {
     "name": "stdout",
     "output_type": "stream",
     "text": [
      "[autogen.oai.client: 02-25 12:08:10] {754} INFO - Detected custom model client in config: QwenApiModelClient, model client can not be used until register_model_client is called.\n",
      "CustomModelClient config: {'model': 'qwen2.5-14b-instruct-1m', 'api_key': 'sk-32a08f0b1f9c40dabec266f77921a35a', 'temperature': 0.8, 'max_tokens': 4000, 'model_client_cls': 'QwenApiModelClient'}\n",
      "Initialized CustomModelClient with model qwen2.5-14b-instruct-1m\n",
      "\u001b[33muser_proxy\u001b[0m (to assistant):\n",
      "\n",
      "Write python code to print hello world\n",
      "\n",
      "--------------------------------------------------------------------------------\n",
      "\u001b[33massistant\u001b[0m (to user_proxy):\n",
      "\n",
      "```python\n",
      "# filename: hello_world.py\n",
      "print(\"hello world\")\n",
      "```\n",
      "TERMINATE\n",
      "\n",
      "--------------------------------------------------------------------------------\n",
      "\u001b[33muser_proxy\u001b[0m (to assistant):\n",
      "\n",
      "你好\n",
      "\n",
      "--------------------------------------------------------------------------------\n",
      "\u001b[33massistant\u001b[0m (to user_proxy):\n",
      "\n",
      "你好！有什么可以帮助你的吗？\n",
      "\n",
      "--------------------------------------------------------------------------------\n",
      "\u001b[33muser_proxy\u001b[0m (to assistant):\n",
      "\n",
      "你是谁\n",
      "\n",
      "--------------------------------------------------------------------------------\n",
      "\u001b[33massistant\u001b[0m (to user_proxy):\n",
      "\n",
      "我是来自阿里云的大规模语言模型，我叫通义千问。我可以回答问题、创作文字，比如写故事、写公文、写邮件、写剧本等等，还能表达观点，玩游戏等。您之前的问题是编写代码来输出“Hello World”，我已经给出了相应的Python代码。现在请问您有什么其他需求或者想让我帮您解答什么问题呢？\n",
      "\n",
      "--------------------------------------------------------------------------------\n",
      "\u001b[31m\n",
      ">>>>>>>> NO HUMAN INPUT RECEIVED.\u001b[0m\n",
      "\u001b[31m\n",
      ">>>>>>>> USING AUTO REPLY...\u001b[0m\n",
      "\u001b[33muser_proxy\u001b[0m (to assistant):\n",
      "\n",
      "\n",
      "\n",
      "--------------------------------------------------------------------------------\n",
      "\u001b[33massistant\u001b[0m (to user_proxy):\n",
      "\n",
      "您好！您的信息似乎不完整，您可能想要表达某些特定的需求或问题。请详细说明您需要什么样的帮助？无论是技术问题、日常咨询还是其他方面，我都将竭诚为您服务。\n",
      "\n",
      "--------------------------------------------------------------------------------\n"
     ]
    },
    {
     "data": {
      "text/plain": [
       "ChatResult(chat_id=None, chat_history=[{'content': 'Write python code to print hello world', 'role': 'assistant', 'name': 'user_proxy'}, {'content': '```python\\n# filename: hello_world.py\\nprint(\"hello world\")\\n```\\nTERMINATE', 'role': 'user', 'name': 'assistant'}, {'content': '你好', 'role': 'assistant', 'name': 'user_proxy'}, {'content': '你好！有什么可以帮助你的吗？', 'role': 'user', 'name': 'assistant'}, {'content': '你是谁', 'role': 'assistant', 'name': 'user_proxy'}, {'content': '我是来自阿里云的大规模语言模型，我叫通义千问。我可以回答问题、创作文字，比如写故事、写公文、写邮件、写剧本等等，还能表达观点，玩游戏等。您之前的问题是编写代码来输出“Hello World”，我已经给出了相应的Python代码。现在请问您有什么其他需求或者想让我帮您解答什么问题呢？', 'role': 'user', 'name': 'assistant'}, {'content': '', 'role': 'assistant', 'name': 'user_proxy'}, {'content': '您好！您的信息似乎不完整，您可能想要表达某些特定的需求或问题。请详细说明您需要什么样的帮助？无论是技术问题、日常咨询还是其他方面，我都将竭诚为您服务。', 'role': 'user', 'name': 'assistant'}], summary='您好！您的信息似乎不完整，您可能想要表达某些特定的需求或问题。请详细说明您需要什么样的帮助？无论是技术问题、日常咨询还是其他方面，我都将竭诚为您服务。', cost={'usage_including_cached_inference': {'total_cost': 0}, 'usage_excluding_cached_inference': {'total_cost': 0}}, human_input=['你好', '你是谁', '', 'exit'])"
      ]
     },
     "execution_count": 11,
     "metadata": {},
     "output_type": "execute_result"
    }
   ],
   "source": [
    "\"\"\"\n",
    "本代码用于展示如何自定义一个模型，本模型基于UniAPI，\n",
    "但是任何支持HTTPS调用的大模型都可以套用以下代码\n",
    "\"\"\"\n",
    "\n",
    "from autogen.agentchat import AssistantAgent, UserProxyAgent\n",
    "from autogen.oai.openai_utils import config_list_from_json\n",
    "from types import SimpleNamespace\n",
    "import requests\n",
    "import os\n",
    "\n",
    "\n",
    "class QwenApiModelClient:\n",
    "    def __init__(self, config, **kwargs):\n",
    "        print(f\"CustomModelClient config: {config}\")\n",
    "        self.api_key = config.get(\"api_key\")\n",
    "        self.api_url = \"https://dashscope.aliyuncs.com/compatible-mode/v1/chat/completions\"\n",
    "        self.model = config.get(\"model\", \"gpt-3.5-turbo\")\n",
    "        self.max_tokens = config.get(\"max_tokens\", 1200)\n",
    "        self.temperature = config.get(\"temperature\", 0.8)\n",
    "        self.top_p = config.get(\"top_p\", 1)\n",
    "        self.presence_penalty = config.get(\"presence_penalty\", 1)\n",
    "\n",
    "        print(f\"Initialized CustomModelClient with model {self.model}\")\n",
    "\n",
    "    def create(self, params):\n",
    "        headers = {\n",
    "            \"Authorization\": f\"Bearer {self.api_key}\",\n",
    "            \"Content-Type\": \"application/json\",\n",
    "        }\n",
    "\n",
    "        data = {\n",
    "            \"max_tokens\": self.max_tokens,\n",
    "            \"model\": self.model,\n",
    "            \"temperature\": self.temperature,\n",
    "            \"top_p\": self.top_p,\n",
    "            \"presence_penalty\": self.presence_penalty,\n",
    "            \"messages\": params.get(\"messages\", []),\n",
    "        }\n",
    "\n",
    "        response = requests.post(self.api_url, headers=headers, json=data)\n",
    "        response.raise_for_status()  # Raise an exception for HTTP errors\n",
    "\n",
    "        api_response = response.json()\n",
    "\n",
    "        # Convert API response to SimpleNamespace for compatibility\n",
    "        client_response = SimpleNamespace()\n",
    "        client_response.choices = []\n",
    "        client_response.model = self.model\n",
    "\n",
    "        for choice in api_response.get(\"choices\", []):\n",
    "            client_choice = SimpleNamespace()\n",
    "            client_choice.message = SimpleNamespace()\n",
    "            client_choice.message.content = choice.get(\"message\", {}).get(\"content\")\n",
    "            client_choice.message.function_call = None\n",
    "            client_response.choices.append(client_choice)\n",
    "\n",
    "        return client_response\n",
    "\n",
    "    def message_retrieval(self, response):\n",
    "        \"\"\"Retrieve the messages from the response.\"\"\"\n",
    "        choices = response.choices\n",
    "        return [choice.message.content for choice in choices]\n",
    "\n",
    "    def cost(self, response) -> float:\n",
    "        \"\"\"Calculate the cost of the response.\"\"\"\n",
    "        # Implement cost calculation if available from your API\n",
    "        response.cost = 0\n",
    "        return 0\n",
    "\n",
    "    @staticmethod\n",
    "    def get_usage(response):\n",
    "        # Implement usage tracking if available from your API\n",
    "        return {}\n",
    "\n",
    "\n",
    "config_list_custom = config_list_from_json(\n",
    "    r\"D:\\myfiles\\Projs\\github projs\\Personal-Agent\\examples\\autogen\\QWENAPI_CONFIG_LIST.json\",\n",
    "    filter_dict={\"model_client_cls\": [\"QwenApiModelClient\"]},\n",
    ")\n",
    "\n",
    "assistant = AssistantAgent(\"assistant\", llm_config={\"config_list\": config_list_custom})\n",
    "user_proxy = UserProxyAgent(\n",
    "    \"user_proxy\",\n",
    "    code_execution_config={\n",
    "        \"work_dir\": \"coding\",\n",
    "        \"use_docker\": False,\n",
    "    },\n",
    ")\n",
    "\n",
    "assistant.register_model_client(model_client_cls=QwenApiModelClient)\n",
    "user_proxy.initiate_chat(\n",
    "    assistant,\n",
    "    message=\"Write python code to print hello world\",\n",
    ")\n",
    "\n"
   ]
  },
  {
   "cell_type": "code",
   "execution_count": null,
   "metadata": {},
   "outputs": [],
   "source": []
  }
 ],
 "metadata": {
  "kernelspec": {
   "display_name": "autogen",
   "language": "python",
   "name": "python3"
  },
  "language_info": {
   "codemirror_mode": {
    "name": "ipython",
    "version": 3
   },
   "file_extension": ".py",
   "mimetype": "text/x-python",
   "name": "python",
   "nbconvert_exporter": "python",
   "pygments_lexer": "ipython3",
   "version": "3.10.16"
  }
 },
 "nbformat": 4,
 "nbformat_minor": 2
}
